{
 "cells": [
  {
   "cell_type": "markdown",
   "metadata": {},
   "source": [
    "# This is Jeopardy!"
   ]
  },
  {
   "cell_type": "markdown",
   "metadata": {},
   "source": [
    "#### Overview"
   ]
  },
  {
   "cell_type": "markdown",
   "metadata": {},
   "source": [
    "This project is slightly different than others you have encountered thus far. Instead of a step-by-step tutorial, this project contains a series of open-ended requirements which describe the project you'll be building. There are many possible ways to correctly fulfill all of these requirements, and you should expect to use the internet, Codecademy, and/or other resources when you encounter a problem that you cannot easily solve."
   ]
  },
  {
   "cell_type": "markdown",
   "metadata": {},
   "source": [
    "#### Project Goals"
   ]
  },
  {
   "cell_type": "markdown",
   "metadata": {},
   "source": [
    "You will work to write several functions that investigate a dataset of _Jeopardy!_ questions and answers. Filter the dataset for topics that you're interested in, compute the average difficulty of those questions, and train to become the next Jeopardy champion!"
   ]
  },
  {
   "cell_type": "markdown",
   "metadata": {},
   "source": [
    "## Prerequisites"
   ]
  },
  {
   "cell_type": "markdown",
   "metadata": {},
   "source": [
    "In order to complete this project, you should have completed the Pandas lessons in the <a href=\"https://www.codecademy.com/learn/paths/analyze-data-with-python\">Analyze Data with Python Skill Path</a>. You can also find those lessons in the <a href=\"https://www.codecademy.com/learn/data-processing-pandas\">Data Analysis with Pandas course</a> or the <a href=\"https://www.codecademy.com/learn/paths/data-science/\">Data Scientist Career Path</a>.\n",
    "\n",
    "Finally, the <a href=\"https://www.codecademy.com/learn/practical-data-cleaning\">Practical Data Cleaning</a> course may also be helpful."
   ]
  },
  {
   "cell_type": "markdown",
   "metadata": {},
   "source": [
    "## Project Requirements"
   ]
  },
  {
   "cell_type": "markdown",
   "metadata": {},
   "source": [
    "1. We've provided a csv file containing data about the game show _Jeopardy!_ in a file named `jeopardy.csv`. Load the data into a DataFrame and investigate its contents. Try to print out specific columns.\n",
    "\n",
    "   Note that in order to make this project as \"real-world\" as possible, we haven't modified the data at all - we're giving it to you exactly how we found it. As a result, this data isn't as \"clean\" as the datasets you normally find on Codecademy. More specifically, there's something odd about the column names. After you figure out the problem with the column names, you may want to rename them to make your life easier for the rest of the project.\n",
    "   \n",
    "   In order to display the full contents of a column, we've added this line of code for you:\n",
    "   \n",
    "   ```py\n",
    "   pd.set_option('display.max_colwidth', None)\n",
    "   ```"
   ]
  },
  {
   "cell_type": "code",
   "execution_count": 2,
   "metadata": {},
   "outputs": [
    {
     "name": "stdout",
     "output_type": "stream",
     "text": [
      "Index(['Show Number', ' Air Date', ' Round', ' Category', ' Value',\n",
      "       ' Question', ' Answer'],\n",
      "      dtype='object')\n",
      "   Show Number    Air Date      Round                         Category  Value  \\\n",
      "0         4680  2004-12-31  Jeopardy!                          HISTORY   $200   \n",
      "1         4680  2004-12-31  Jeopardy!  ESPN's TOP 10 ALL-TIME ATHLETES   $200   \n",
      "2         4680  2004-12-31  Jeopardy!      EVERYBODY TALKS ABOUT IT...   $200   \n",
      "3         4680  2004-12-31  Jeopardy!                 THE COMPANY LINE   $200   \n",
      "4         4680  2004-12-31  Jeopardy!              EPITAPHS & TRIBUTES   $200   \n",
      "\n",
      "                                                                                                      Question  \\\n",
      "0             For the last 8 years of his life, Galileo was under house arrest for espousing this man's theory   \n",
      "1  No. 2: 1912 Olympian; football star at Carlisle Indian School; 6 MLB seasons with the Reds, Giants & Braves   \n",
      "2                     The city of Yuma in this state has a record average of 4,055 hours of sunshine each year   \n",
      "3                         In 1963, live on \"The Art Linkletter Show\", this company served its billionth burger   \n",
      "4     Signer of the Dec. of Indep., framer of the Constitution of Mass., second President of the United States   \n",
      "\n",
      "       Answer  \n",
      "0  Copernicus  \n",
      "1  Jim Thorpe  \n",
      "2     Arizona  \n",
      "3  McDonald's  \n",
      "4  John Adams  \n"
     ]
    }
   ],
   "source": [
    "import pandas as pd\n",
    "#Show full column content\n",
    "pd.set_option('display.max_colwidth', None)\n",
    "\n",
    "#Load the dataset\n",
    "jeopardy = pd.read_csv('jeopardy.csv')\n",
    "\n",
    "#Take a look\n",
    "print(jeopardy.columns)\n",
    "print(jeopardy.head())"
   ]
  },
  {
   "cell_type": "markdown",
   "metadata": {},
   "source": [
    "2. Write a function that filters the dataset for questions that contains all of the words in a list of words. For example, when the list `[\"King\", \"England\"]` was passed to our function, the function returned a DataFrame of 49 rows. Every row had the strings `\"King\"` and `\"England\"` somewhere in its `\" Question\"`.\n",
    "\n",
    "   Test your function by printing out the column containing the question of each row of the dataset."
   ]
  },
  {
   "cell_type": "code",
   "execution_count": 5,
   "metadata": {},
   "outputs": [
    {
     "name": "stdout",
     "output_type": "stream",
     "text": [
      "Index(['Show Number', 'Air Date', 'Round', 'Category', 'Value', 'Question',\n",
      "       'Answer'],\n",
      "      dtype='object')\n",
      "4953                    Both England's King George V & FDR put their stamp of approval on this \"King of Hobbies\"\n",
      "6337      In retaliation for Viking raids, this \"Unready\" king of England attacks Norse areas of the Isle of Man\n",
      "9191                    This king of England beat the odds to trounce the French in the 1415 Battle of Agincourt\n",
      "11710               This Scotsman, the first Stuart king of England, was called \"The Wisest Fool in Christendom\"\n",
      "13454                                       It's the number that followed the last king of England named William\n",
      "                                                           ...                                                  \n",
      "208295        In 1066 this great-great grandson of Rollo made what some call the last Viking invasion of England\n",
      "208742                      Dutch-born king who ruled England jointly with Mary II & is a tasty New Zealand fish\n",
      "213870                In 1781 William Herschel discovered Uranus & initially named it after this king of England\n",
      "216021          His nickname was \"Bertie\", but he used this name & number when he became king of England in 1901\n",
      "216789        This kingdom of England grew from 2 settlements, one founded around 495 by Cerdic & his son Cynric\n",
      "Name: Question, Length: 152, dtype: object\n",
      "Number of matching questions: 152\n"
     ]
    }
   ],
   "source": [
    "# Clean the column names by stripping whitespace\n",
    "jeopardy.columns = [col.strip() for col in jeopardy.columns]\n",
    "print(jeopardy.columns)\n",
    "\n",
    "# Function to filter questions based on a list of words\n",
    "def filter_questions(df, words):\n",
    "    # Clean up column names\n",
    "    df.columns = [col.strip() for col in df.columns]\n",
    "\n",
    "    # Start with lowercase question column\n",
    "    mask = df['Question'].str.lower()\n",
    "\n",
    "    # Keep only rows that contain ALL words\n",
    "    for word in words:\n",
    "        mask = mask[mask.str.contains(word.lower())]\n",
    "\n",
    "    return df.loc[mask.index]\n",
    "\n",
    "# Example usage of the filter function\n",
    "filtered = filter_questions(jeopardy, [\"King\", \"England\"])\n",
    "print(filtered[\"Question\"])\n",
    "print(f\"Number of matching questions: {len(filtered)}\")\n",
    "\n",
    "\n",
    "\n"
   ]
  },
  {
   "cell_type": "markdown",
   "metadata": {},
   "source": [
    "3. Test your original function with a few different sets of words to try to find some ways your function breaks. Edit your function so it is more robust.\n",
    "\n",
    "   For example, think about capitalization. We probably want to find questions that contain the word `\"King\"` or `\"king\"`.\n",
    "   \n",
    "   You may also want to check to make sure you don't find rows that contain substrings of your given words. For example, our function found a question that didn't contain the word `\"king\"`, however it did contain the word `\"viking\"` &mdash; it found the `\"king\"` inside `\"viking\"`. Note that this also comes with some drawbacks &mdash; you would no longer find questions that contained words like `\"England's\"`."
   ]
  },
  {
   "cell_type": "code",
   "execution_count": 6,
   "metadata": {},
   "outputs": [
    {
     "name": "stdout",
     "output_type": "stream",
     "text": [
      "4953                    Both England's King George V & FDR put their stamp of approval on this \"King of Hobbies\"\n",
      "6337      In retaliation for Viking raids, this \"Unready\" king of England attacks Norse areas of the Isle of Man\n",
      "9191                    This king of England beat the odds to trounce the French in the 1415 Battle of Agincourt\n",
      "11710               This Scotsman, the first Stuart king of England, was called \"The Wisest Fool in Christendom\"\n",
      "13454                                       It's the number that followed the last king of England named William\n",
      "                                                           ...                                                  \n",
      "201168                                  Popular Saint-Exupery character waiting around to become king of England\n",
      "204778                                 This southern colony was named for a king of England, the II of that name\n",
      "208742                      Dutch-born king who ruled England jointly with Mary II & is a tasty New Zealand fish\n",
      "213870                In 1781 William Herschel discovered Uranus & initially named it after this king of England\n",
      "216021          His nickname was \"Bertie\", but he used this name & number when he became king of England in 1901\n",
      "Name: Question, Length: 118, dtype: object\n",
      "16020                                      In computer science, GUI is this kind of user interface\n",
      "73810     Max Planck Institute for Computer Science, Braunschweig Tech, The University of Augsburg\n",
      "120890                                          In computer science, ones & zeroes are key to this\n",
      "Name: Question, dtype: object\n",
      "14314                                                                                                                                                                                                                                                                                                                                        Prime minister during the war, some later called him \"the minister who lost America\"\n",
      "26159                                                                                                                                                                                                                                                                                                                                                    Though never declared, it was the longest war in which America took part\n",
      "26178                                                                                                                                                                                                                                                                                                                                  Spaniards started war in colonial America by cutting off this part of Robert Jenkins' body\n",
      "42319                                                                                                                                                                                                                                                                                                                      About this first battle of the Revolutionary War, S. Adams said, \"What a glorious morning for America\"\n",
      "48518                                                                                                                                                                                                                                                                                                              Mark Bowden has written the story of this 1979 crisis, \"The First Battle In America's War With Militant Islam\"\n",
      "65756                                                                                                                                                                                                                                                                                                                   After Walter called the Vietnam War unwinnable, this man said, \"If I've lost Cronkite, I've lost America\"\n",
      "74181                                                                                                                                                                                                                                                                                                                                         Located 35 miles from Louisville, it was named for America's first Secretary of War\n",
      "82452                                                                                                                                                                                                                                                                                                                                  As a result of this war, America gained the islands of Puerto Rico, Guam & the Philippines\n",
      "84033                                                                                                                                                                                                                                                                                                                  The Hessian Fly is so named because people believed Hessian soldiers brought it to America during this war\n",
      "88135                                                                                                                                                                                                                                                                                                                                        America's top ace of the war, he won the Medal of Honor & the French Croix de Guerre\n",
      "93186                                                                                                                                                                                                                                                                                                                  This highest Australian peak was named for a Polish patriot who aided America during the Revolutionary War\n",
      "94172                                                                                                                                                                                                                                                                                                                                         He had a 2004 bestseller with \"Against All Enemies: Inside America's War on Terror\"\n",
      "100785                                                                                                                                                                                                                                                                                                                                                          This \"affair\" caused a quasi-war between France & America in 1798\n",
      "112810                                                                                                                                                                                                                                                                                                                The \"War on\" this, approved by Congress in August of 1964, included VISTA, Volunteers in Service to America\n",
      "131200                                                                                                                                                                                                                                                                                                                                                               2000: Stephen Gaghan for this look at America's war on drugs\n",
      "150634                                                                                                                                                                                                                                                                                                                                                                       This person ruled England during America's Civil War\n",
      "160084                                                                                                                                                                                                                                                                                                                      As the war dawned, America's main arms storehouse was located in this town about 20 miles from Boston\n",
      "163144                                                                                                                                             Familiar TV voice & now author heard <a href=\"http://www.j-archive.com/media/2000-01-03_J_16.mp3\">here</a>  <i>\"When Pearl Harbor made it irrefutably clear that America was not a fortress, this generation was summoned to the parade ground and told to train for war.\"</i>\n",
      "169964    (<a href=\"http://www.j-archive.com/media/2008-05-02_J_07.jpg\" target=\"_blank\">Kelly of the Clue Crew reports from the NASA White Sands Test Facility in New Mexico.</a>)  To develop U.S. rockets like the Redstone, many German scientists were brought to America after World War II, including <a href=\"http://www.j-archive.com/media/2008-05-02_J_07a.jpg\" target=\"_blank\">this</a> chief designer of the Saturn V\n",
      "170083                                                                                                                                                                                                                                                                                                                                                                The Voice of America first hit the airwaves during this war\n",
      "183868                                                                                                                                                                                                                                                                                                                                     King George's War in North America was known in Europe as the war of the Austrian this\n",
      "187560                                                                                                                                                                                                                                                                                                                                            On April 6, 1917 America entered World War I & this composer wrote \"Over There\"\n",
      "189478                                                                                                                                                                                                                                                                                                                                                                                        1702-1713: Her war in North America\n",
      "214105                                                                                                                                                                                                                                                                                                                      George Bernard Shaw's play \"The Devil's Disciple\" takes place in America during this 18th century war\n",
      "214515                                                                                                                                                                                                                                                                                                                       Benecio del Toro plays troubled cop Javier Rodriguez in the 2000 film tale of America's war on drugs\n",
      "Name: Question, dtype: object\n"
     ]
    }
   ],
   "source": [
    "import re\n",
    "\n",
    "def filter_questions(df, words):\n",
    "    # Clean column names (optional safeguard)\n",
    "    df.columns = [col.strip() for col in df.columns]\n",
    "\n",
    "    # Start with full DataFrame\n",
    "    filtered_df = df\n",
    "\n",
    "    for word in words:\n",
    "        # Create regex pattern for whole word match (case-insensitive)\n",
    "        pattern = r'\\b' + re.escape(word.lower()) + r'\\b'\n",
    "        filtered_df = filtered_df[filtered_df['Question'].str.lower().str.contains(pattern, regex=True)]\n",
    "\n",
    "    return filtered_df\n",
    "\n",
    "#Test with different sets \n",
    "# Original example\n",
    "print(filter_questions(jeopardy, [\"King\", \"England\"])[\"Question\"])\n",
    "\n",
    "# Try with tricky sets\n",
    "print(filter_questions(jeopardy, [\"Computer\", \"Science\"])[\"Question\"])\n",
    "print(filter_questions(jeopardy, [\"War\", \"America\"])[\"Question\"])\n"
   ]
  },
  {
   "cell_type": "markdown",
   "metadata": {},
   "source": [
    "4. We may want to eventually compute aggregate statistics, like `.mean()` on the `\" Value\"` column. But right now, the values in that column are strings. Convert the`\" Value\"` column to floats. If you'd like to, you can create a new column with float values.\n",
    "\n",
    "   While most of the values in the `\" Value\"` column represent a dollar amount as a string, note that some do not &mdash; these values will need to be handled differently!\n",
    "\n",
    "   Now that you can filter the dataset of question, use your new column that contains the float values of each question to find the \"difficulty\" of certain topics. For example, what is the average value of questions that contain the word `\"King\"`?\n",
    "   \n",
    "   Make sure to use the dataset that contains the float values as the dataset you use in your filtering function."
   ]
  },
  {
   "cell_type": "code",
   "execution_count": 8,
   "metadata": {},
   "outputs": [
    {
     "name": "stdout",
     "output_type": "stream",
     "text": [
      "  Value  FloatValue\n",
      "0  $200       200.0\n",
      "1  $200       200.0\n",
      "2  $200       200.0\n",
      "3  $200       200.0\n",
      "4  $200       200.0\n",
      "5  $200       200.0\n",
      "6  $400       400.0\n",
      "7  $400       400.0\n",
      "8  $400       400.0\n",
      "9  $400       400.0\n",
      "Average dollar value of questions with the word 'King': $817.60\n"
     ]
    }
   ],
   "source": [
    "# Remove '$' and ',' then convert to float\n",
    "jeopardy['FloatValue'] = jeopardy['Value'].replace('[\\$,]', '', regex=True)\n",
    "\n",
    "# Replace 'None' or 'Daily Double' with NaN, then convert to float\n",
    "jeopardy['FloatValue'] = pd.to_numeric(jeopardy['FloatValue'], errors='coerce')\n",
    "print(jeopardy[['Value', 'FloatValue']].head(10))\n",
    "\n",
    "# Calculate the average dollar value of questions containing the word \"King\"\n",
    "filtered_king = filter_questions(jeopardy, [\"King\"])\n",
    "average_king_value = filtered_king['FloatValue'].mean()\n",
    "\n",
    "print(f\"Average dollar value of questions with the word 'King': ${average_king_value:.2f}\")\n"
   ]
  },
  {
   "cell_type": "markdown",
   "metadata": {},
   "source": [
    "5. Write a function that returns the count of unique answers to all of the questions in a dataset. For example, after filtering the entire dataset to only questions containing the word `\"King\"`, we could then find all of the unique answers to those questions. The answer \"Henry VIII\" appeared 55 times and was the most common answer."
   ]
  },
  {
   "cell_type": "code",
   "execution_count": 11,
   "metadata": {},
   "outputs": [
    {
     "name": "stdout",
     "output_type": "stream",
     "text": [
      "Answer\n",
      "Henry VIII     54\n",
      "Solomon        31\n",
      "Louis XIV      31\n",
      "David          29\n",
      "Sweden         24\n",
      "Richard III    24\n",
      "Norway         22\n",
      "Charles I      19\n",
      "George III     18\n",
      "Saul           16\n",
      "Name: count, dtype: int64\n",
      "The most common answer is 'Henry VIII' with 54 occurrences.\n"
     ]
    }
   ],
   "source": [
    "def count_unique_answers(df):\n",
    "    return df['Answer'].value_counts()\n",
    "\n",
    "filtered_king = filter_questions(jeopardy, [\"King\"])\n",
    "answer_counts = count_unique_answers(filtered_king)\n",
    "\n",
    "print(answer_counts.head(10))  # Top 10 answers\n",
    "\n",
    "# Find the most common answer\n",
    "most_common = answer_counts.idxmax()\n",
    "most_common_count = answer_counts.max()\n",
    "\n",
    "print(f\"The most common answer is '{most_common}' with {most_common_count} occurrences.\")\n"
   ]
  },
  {
   "cell_type": "markdown",
   "metadata": {},
   "source": [
    "6. Explore from here! This is an incredibly rich dataset, and there are so many interesting things to discover. There are a few columns that we haven't even started looking at yet. Here are some ideas on ways to continue working with this data:\n",
    "\n",
    " * Investigate the ways in which questions change over time by filtering by the date. How many questions from the 90s use the word `\"Computer\"` compared to questions from the 2000s?\n",
    " * Is there a connection between the round and the category? Are you more likely to find certain categories, like `\"Literature\"` in Single Jeopardy or Double Jeopardy?\n",
    " * Build a system to quiz yourself. Grab random questions, and use the <a href=\"https://docs.python.org/3/library/functions.html#input\">input</a> function to get a response from the user. Check to see if that response was right or wrong."
   ]
  },
  {
   "cell_type": "code",
   "execution_count": 14,
   "metadata": {},
   "outputs": [
    {
     "name": "stdout",
     "output_type": "stream",
     "text": [
      "1990s 'Computer' questions: 79\n",
      "2000s 'Computer' questions: 227\n",
      "Category           A JIM CARREY FILM FESTIVAL  \"!\"  \"-ARES\"  \\\n",
      "Round                                                         \n",
      "Double Jeopardy!                          0.0  0.0      5.0   \n",
      "Final Jeopardy!                           0.0  0.0      0.0   \n",
      "Jeopardy!                                 5.0  5.0      0.0   \n",
      "Tiebreaker                                0.0  0.0      0.0   \n",
      "\n",
      "Category          \"-ICIAN\" EXPEDITION  \"...OD\" WORDS  \"1\", \"2\", \"3\"  \\\n",
      "Round                                                                 \n",
      "Double Jeopardy!                  0.0            5.0            5.0   \n",
      "Final Jeopardy!                   0.0            0.0            0.0   \n",
      "Jeopardy!                         5.0            0.0            0.0   \n",
      "Tiebreaker                        0.0            0.0            0.0   \n",
      "\n",
      "Category          \"20\" QUESTIONS  \"A\" & \"E\"  \"A\" & \"M\"  \"A\" + 4  ...  “CC”  \\\n",
      "Round                                                            ...         \n",
      "Double Jeopardy!             5.0        0.0        0.0      5.0  ...   0.0   \n",
      "Final Jeopardy!              0.0        0.0        0.0      0.0  ...   0.0   \n",
      "Jeopardy!                    0.0        5.0        5.0      0.0  ...   5.0   \n",
      "Tiebreaker                   0.0        0.0        0.0      0.0  ...   0.0   \n",
      "\n",
      "Category          “GUT”s  “G” WHIZ!  “HARD” & “EASY” MOVIES  “NORTH”  \\\n",
      "Round                                                                  \n",
      "Double Jeopardy!     5.0        0.0                     5.0      0.0   \n",
      "Final Jeopardy!      0.0        0.0                     0.0      0.0   \n",
      "Jeopardy!            0.0        5.0                     0.0      5.0   \n",
      "Tiebreaker           0.0        0.0                     0.0      0.0   \n",
      "\n",
      "Category          “R” MOVIES  “SAINTS”  “SOUTH”  “STREETS”  “WH”AT IS IT?  \n",
      "Round                                                                      \n",
      "Double Jeopardy!         5.0       4.0      5.0        0.0            5.0  \n",
      "Final Jeopardy!          0.0       0.0      0.0        0.0            0.0  \n",
      "Jeopardy!                0.0       0.0      0.0        5.0            0.0  \n",
      "Tiebreaker               0.0       0.0      0.0        0.0            0.0  \n",
      "\n",
      "[4 rows x 27995 columns]\n",
      "Round\n",
      "Double Jeopardy!    1054\n",
      "Jeopardy!            423\n",
      "Final Jeopardy!       82\n",
      "Name: count, dtype: int64\n"
     ]
    }
   ],
   "source": [
    "#Convert the \"Air Date\" column to datetime\n",
    "jeopardy['Air Date'] = pd.to_datetime(jeopardy['Air Date'])\n",
    "\n",
    "# Filter for decades and the word \"Computer\"\n",
    "# 1990s\n",
    "nineties = jeopardy[(jeopardy['Air Date'].dt.year >= 1990) & \n",
    "                    (jeopardy['Air Date'].dt.year < 2000)]\n",
    "nineties_computer = filter_questions(nineties, [\"Computer\"])\n",
    "print(f\"1990s 'Computer' questions: {len(nineties_computer)}\")\n",
    "\n",
    "# 2000s\n",
    "two_thousands = jeopardy[(jeopardy['Air Date'].dt.year >= 2000) & \n",
    "                         (jeopardy['Air Date'].dt.year < 2010)]\n",
    "two_thousands_computer = filter_questions(two_thousands, [\"Computer\"])\n",
    "print(f\"2000s 'Computer' questions: {len(two_thousands_computer)}\")\n",
    "\n",
    "#Explore the connection between the round and the category\n",
    "round_category_ct = jeopardy.groupby(['Round', 'Category']).size().unstack().fillna(0)\n",
    "print(round_category_ct.head())\n",
    "\n",
    "#Focus on a category like \"Literature\"\n",
    "literature_counts = jeopardy[jeopardy['Category'].str.lower().str.contains(\"literature\")]['Round'].value_counts()\n",
    "print(literature_counts)\n",
    "\n"
   ]
  },
  {
   "cell_type": "code",
   "execution_count": null,
   "metadata": {},
   "outputs": [],
   "source": []
  },
  {
   "cell_type": "markdown",
   "metadata": {},
   "source": [
    "## Solution"
   ]
  },
  {
   "cell_type": "markdown",
   "metadata": {},
   "source": [
    "7. Compare your program to our <a href=\"https://content.codecademy.com/PRO/independent-practice-projects/jeopardy/jeopardy_solution.zip\">sample solution code</a> - remember, that your program might look different from ours (and probably will) and that's okay!"
   ]
  },
  {
   "cell_type": "markdown",
   "metadata": {},
   "source": [
    "8. Great work! Visit <a href=\"https://discuss.codecademy.com/t/this-is-jeopardy-challenge-project-python-pandas/462365\">our forums</a> to compare your project to our sample solution code. You can also learn how to host your own solution on GitHub so you can share it with other learners! Your solution might look different from ours, and that's okay! There are multiple ways to solve these projects, and you'll learn more by seeing others' code."
   ]
  },
  {
   "cell_type": "code",
   "execution_count": null,
   "metadata": {},
   "outputs": [],
   "source": []
  }
 ],
 "metadata": {
  "kernelspec": {
   "display_name": "Python 3",
   "language": "python",
   "name": "python3"
  },
  "language_info": {
   "codemirror_mode": {
    "name": "ipython",
    "version": 3
   },
   "file_extension": ".py",
   "mimetype": "text/x-python",
   "name": "python",
   "nbconvert_exporter": "python",
   "pygments_lexer": "ipython3",
   "version": "3.11.13"
  }
 },
 "nbformat": 4,
 "nbformat_minor": 2
}
